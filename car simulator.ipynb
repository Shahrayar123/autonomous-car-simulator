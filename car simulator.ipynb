{
 "cells": [
  {
   "cell_type": "code",
   "execution_count": 1,
   "metadata": {},
   "outputs": [],
   "source": [
    "import numpy as np\n",
    "import pandas as pd"
   ]
  },
  {
   "cell_type": "code",
   "execution_count": 3,
   "metadata": {},
   "outputs": [],
   "source": [
    "columns = ['Centre','Left','Right','Steering','Throttle','Reverse','Speed']"
   ]
  },
  {
   "cell_type": "markdown",
   "metadata": {},
   "source": [
    "### Loading data"
   ]
  },
  {
   "cell_type": "code",
   "execution_count": 5,
   "metadata": {},
   "outputs": [
    {
     "data": {
      "text/html": [
       "<div>\n",
       "<style scoped>\n",
       "    .dataframe tbody tr th:only-of-type {\n",
       "        vertical-align: middle;\n",
       "    }\n",
       "\n",
       "    .dataframe tbody tr th {\n",
       "        vertical-align: top;\n",
       "    }\n",
       "\n",
       "    .dataframe thead th {\n",
       "        text-align: right;\n",
       "    }\n",
       "</style>\n",
       "<table border=\"1\" class=\"dataframe\">\n",
       "  <thead>\n",
       "    <tr style=\"text-align: right;\">\n",
       "      <th></th>\n",
       "      <th>Centre</th>\n",
       "      <th>Left</th>\n",
       "      <th>Right</th>\n",
       "      <th>Steering</th>\n",
       "      <th>Throttle</th>\n",
       "      <th>Reverse</th>\n",
       "      <th>Speed</th>\n",
       "    </tr>\n",
       "  </thead>\n",
       "  <tbody>\n",
       "    <tr>\n",
       "      <th>0</th>\n",
       "      <td>C:\\Users\\Shahryar\\Downloads\\Self driving Car\\I...</td>\n",
       "      <td>C:\\Users\\Shahryar\\Downloads\\Self driving Car\\I...</td>\n",
       "      <td>C:\\Users\\Shahryar\\Downloads\\Self driving Car\\I...</td>\n",
       "      <td>0.0</td>\n",
       "      <td>0.0</td>\n",
       "      <td>0.0</td>\n",
       "      <td>0.000002</td>\n",
       "    </tr>\n",
       "    <tr>\n",
       "      <th>1</th>\n",
       "      <td>C:\\Users\\Shahryar\\Downloads\\Self driving Car\\I...</td>\n",
       "      <td>C:\\Users\\Shahryar\\Downloads\\Self driving Car\\I...</td>\n",
       "      <td>C:\\Users\\Shahryar\\Downloads\\Self driving Car\\I...</td>\n",
       "      <td>0.0</td>\n",
       "      <td>0.0</td>\n",
       "      <td>0.0</td>\n",
       "      <td>0.000023</td>\n",
       "    </tr>\n",
       "    <tr>\n",
       "      <th>2</th>\n",
       "      <td>C:\\Users\\Shahryar\\Downloads\\Self driving Car\\I...</td>\n",
       "      <td>C:\\Users\\Shahryar\\Downloads\\Self driving Car\\I...</td>\n",
       "      <td>C:\\Users\\Shahryar\\Downloads\\Self driving Car\\I...</td>\n",
       "      <td>0.0</td>\n",
       "      <td>0.0</td>\n",
       "      <td>0.0</td>\n",
       "      <td>0.000005</td>\n",
       "    </tr>\n",
       "    <tr>\n",
       "      <th>3</th>\n",
       "      <td>C:\\Users\\Shahryar\\Downloads\\Self driving Car\\I...</td>\n",
       "      <td>C:\\Users\\Shahryar\\Downloads\\Self driving Car\\I...</td>\n",
       "      <td>C:\\Users\\Shahryar\\Downloads\\Self driving Car\\I...</td>\n",
       "      <td>0.0</td>\n",
       "      <td>0.0</td>\n",
       "      <td>0.0</td>\n",
       "      <td>0.000028</td>\n",
       "    </tr>\n",
       "    <tr>\n",
       "      <th>4</th>\n",
       "      <td>C:\\Users\\Shahryar\\Downloads\\Self driving Car\\I...</td>\n",
       "      <td>C:\\Users\\Shahryar\\Downloads\\Self driving Car\\I...</td>\n",
       "      <td>C:\\Users\\Shahryar\\Downloads\\Self driving Car\\I...</td>\n",
       "      <td>0.0</td>\n",
       "      <td>0.0</td>\n",
       "      <td>0.0</td>\n",
       "      <td>0.000025</td>\n",
       "    </tr>\n",
       "  </tbody>\n",
       "</table>\n",
       "</div>"
      ],
      "text/plain": [
       "                                              Centre  \\\n",
       "0  C:\\Users\\Shahryar\\Downloads\\Self driving Car\\I...   \n",
       "1  C:\\Users\\Shahryar\\Downloads\\Self driving Car\\I...   \n",
       "2  C:\\Users\\Shahryar\\Downloads\\Self driving Car\\I...   \n",
       "3  C:\\Users\\Shahryar\\Downloads\\Self driving Car\\I...   \n",
       "4  C:\\Users\\Shahryar\\Downloads\\Self driving Car\\I...   \n",
       "\n",
       "                                                Left  \\\n",
       "0  C:\\Users\\Shahryar\\Downloads\\Self driving Car\\I...   \n",
       "1  C:\\Users\\Shahryar\\Downloads\\Self driving Car\\I...   \n",
       "2  C:\\Users\\Shahryar\\Downloads\\Self driving Car\\I...   \n",
       "3  C:\\Users\\Shahryar\\Downloads\\Self driving Car\\I...   \n",
       "4  C:\\Users\\Shahryar\\Downloads\\Self driving Car\\I...   \n",
       "\n",
       "                                               Right  Steering  Throttle  \\\n",
       "0  C:\\Users\\Shahryar\\Downloads\\Self driving Car\\I...       0.0       0.0   \n",
       "1  C:\\Users\\Shahryar\\Downloads\\Self driving Car\\I...       0.0       0.0   \n",
       "2  C:\\Users\\Shahryar\\Downloads\\Self driving Car\\I...       0.0       0.0   \n",
       "3  C:\\Users\\Shahryar\\Downloads\\Self driving Car\\I...       0.0       0.0   \n",
       "4  C:\\Users\\Shahryar\\Downloads\\Self driving Car\\I...       0.0       0.0   \n",
       "\n",
       "   Reverse     Speed  \n",
       "0      0.0  0.000002  \n",
       "1      0.0  0.000023  \n",
       "2      0.0  0.000005  \n",
       "3      0.0  0.000028  \n",
       "4      0.0  0.000025  "
      ]
     },
     "execution_count": 5,
     "metadata": {},
     "output_type": "execute_result"
    }
   ],
   "source": [
    "pd.read_csv(\"./Data/driving_log.csv\", names=columns).head()"
   ]
  },
  {
   "cell_type": "code",
   "execution_count": 7,
   "metadata": {},
   "outputs": [
    {
     "data": {
      "text/plain": [
       "(12576, 7)"
      ]
     },
     "execution_count": 7,
     "metadata": {},
     "output_type": "execute_result"
    }
   ],
   "source": [
    "pd.read_csv(\"./Data/driving_log.csv\", names=columns).shape"
   ]
  },
  {
   "cell_type": "code",
   "execution_count": null,
   "metadata": {},
   "outputs": [],
   "source": []
  }
 ],
 "metadata": {
  "kernelspec": {
   "display_name": "Python 3",
   "language": "python",
   "name": "python3"
  },
  "language_info": {
   "codemirror_mode": {
    "name": "ipython",
    "version": 3
   },
   "file_extension": ".py",
   "mimetype": "text/x-python",
   "name": "python",
   "nbconvert_exporter": "python",
   "pygments_lexer": "ipython3",
   "version": "3.7.3"
  }
 },
 "nbformat": 4,
 "nbformat_minor": 2
}
